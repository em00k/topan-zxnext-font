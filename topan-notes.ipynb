{
 "cells": [
  {
   "cell_type": "code",
   "execution_count": null,
   "metadata": {
    "vscode": {
     "languageId": "plaintext"
    }
   },
   "outputs": [],
   "source": [
    "v2 - by em00k \n"
   ]
  },
  {
   "cell_type": "markdown",
   "metadata": {},
   "source": [
    "\n",
    "\n",
    "# topan-zxnext-font\n",
    " topan zx next font\n",
    "\n",
    " this is a zx spectrum frot designed for use with the tilemap\n",
    "\n",
    " this was inspired by the Amiga's Topaz font \n",
    "\n",
    "![alt text](topan2.png)\n"
   ]
  }
 ],
 "metadata": {
  "language_info": {
   "name": "python"
  }
 },
 "nbformat": 4,
 "nbformat_minor": 2
}
